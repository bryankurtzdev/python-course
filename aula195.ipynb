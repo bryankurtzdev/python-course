{
 "cells": [
  {
   "cell_type": "code",
   "execution_count": 2,
   "id": "e16c2275-556e-47ed-a102-21fc46a38663",
   "metadata": {},
   "outputs": [],
   "source": [
    "a = 2"
   ]
  },
  {
   "cell_type": "code",
   "execution_count": 3,
   "id": "0b906a99-b21b-4616-8b4a-51a725eb4c46",
   "metadata": {},
   "outputs": [
    {
     "data": {
      "text/plain": [
       "2"
      ]
     },
     "execution_count": 3,
     "metadata": {},
     "output_type": "execute_result"
    }
   ],
   "source": [
    "a"
   ]
  },
  {
   "cell_type": "markdown",
   "id": "404441f6-1c5e-4ba4-9f6e-872547012470",
   "metadata": {},
   "source": [
    "Essa linha tem o valor da variavel `a` em dobro."
   ]
  },
  {
   "cell_type": "code",
   "execution_count": 4,
   "id": "9f45c0b4-1283-4d1d-b986-e8b83ffed168",
   "metadata": {},
   "outputs": [],
   "source": [
    "b = a * 2\n",
    "b"
   ]
  },
  {
   "cell_type": "markdown",
   "id": "e5d6fe68-327f-4373-b097-c57ef62a2c7d",
   "metadata": {},
   "source": [
    "Essa linha mostra o valor de `a` + `b`"
   ]
  },
  {
   "cell_type": "code",
   "execution_count": 7,
   "id": "8b87e402-7174-4022-a3bd-d9d01d34b3eb",
   "metadata": {},
   "outputs": [
    {
     "data": {
      "text/plain": [
       "6"
      ]
     },
     "execution_count": 7,
     "metadata": {},
     "output_type": "execute_result"
    }
   ],
   "source": [
    "a + b"
   ]
  },
  {
   "cell_type": "code",
   "execution_count": null,
   "id": "be2cceb9-7d89-4eca-a24c-926f6b5a0956",
   "metadata": {},
   "outputs": [],
   "source": []
  }
 ],
 "metadata": {
  "kernelspec": {
   "display_name": "Python 3 (ipykernel)",
   "language": "python",
   "name": "python3"
  },
  "language_info": {
   "codemirror_mode": {
    "name": "ipython",
    "version": 3
   },
   "file_extension": ".py",
   "mimetype": "text/x-python",
   "name": "python",
   "nbconvert_exporter": "python",
   "pygments_lexer": "ipython3",
   "version": "3.12.6"
  }
 },
 "nbformat": 4,
 "nbformat_minor": 5
}
